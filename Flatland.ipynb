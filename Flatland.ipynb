{
  "nbformat": 4,
  "nbformat_minor": 0,
  "metadata": {
    "colab": {
      "provenance": []
    },
    "kernelspec": {
      "name": "python3",
      "display_name": "Python 3"
    },
    "language_info": {
      "name": "python"
    }
  },
  "cells": [
    {
      "cell_type": "code",
      "execution_count": null,
      "metadata": {
        "id": "cAUTUOMBut_W"
      },
      "outputs": [],
      "source": [
        "import numpy as np\n",
        "\n",
        "data = np.load('flatland_train.npz')\n",
        "X = data['X']\n",
        "y = data['y']\n",
        "\n",
        "y[y != 0] -= 2    # Correct labels so that triangle is mapped to class 1\n",
        "X = X / 255.      # Scale down to range [0, 1]\n",
        "\n"
      ]
    },
    {
      "cell_type": "code",
      "source": [
        "# Construct and train your model (don't forget train/test split and other tricks)\n",
        "from tensorflow import keras\n",
        "\n"
      ],
      "metadata": {
        "id": "kTukRWMXu4-9"
      },
      "execution_count": null,
      "outputs": []
    },
    {
      "cell_type": "code",
      "source": [
        "X.shape"
      ],
      "metadata": {
        "colab": {
          "base_uri": "https://localhost:8080/"
        },
        "id": "CcOfSEOVvpDY",
        "outputId": "6a1db07b-df2d-49dd-9614-b828cfe4174d"
      },
      "execution_count": null,
      "outputs": [
        {
          "output_type": "execute_result",
          "data": {
            "text/plain": [
              "(10000, 50, 50)"
            ]
          },
          "metadata": {},
          "execution_count": 4
        }
      ]
    },
    {
      "cell_type": "code",
      "source": [
        "y.shape"
      ],
      "metadata": {
        "colab": {
          "base_uri": "https://localhost:8080/"
        },
        "id": "fGFfI3H-3AgG",
        "outputId": "09379071-f6fe-48e0-8c20-cce5e346ee9c"
      },
      "execution_count": null,
      "outputs": [
        {
          "output_type": "execute_result",
          "data": {
            "text/plain": [
              "(10000,)"
            ]
          },
          "metadata": {},
          "execution_count": 32
        }
      ]
    },
    {
      "cell_type": "code",
      "source": [
        "model=keras.models.Sequential()\n",
        "model.add(keras.layers.Flatten(input_shape=(50,50)))\n",
        "model.add(keras.layers.Dense(1000,activation='relu'))\n",
        "model.add(keras.layers.Dense(50,activation='relu'))\n",
        "model.add(keras.layers.Dense(5,activation='softmax'))\n",
        "\n",
        "model.compile(loss='sparse_categorical_crossentropy',optimizer='SGD', metrics=['accuracy'])\n",
        "model.summary()"
      ],
      "metadata": {
        "colab": {
          "base_uri": "https://localhost:8080/"
        },
        "id": "DGKm1iwOwbk5",
        "outputId": "0d0bc41c-874c-4e90-d57e-f940fa0a2e5e"
      },
      "execution_count": null,
      "outputs": [
        {
          "output_type": "stream",
          "name": "stdout",
          "text": [
            "Model: \"sequential_8\"\n",
            "_________________________________________________________________\n",
            " Layer (type)                Output Shape              Param #   \n",
            "=================================================================\n",
            " flatten_6 (Flatten)         (None, 2500)              0         \n",
            "                                                                 \n",
            " dense_17 (Dense)            (None, 1000)              2501000   \n",
            "                                                                 \n",
            " dense_18 (Dense)            (None, 50)                50050     \n",
            "                                                                 \n",
            " dense_19 (Dense)            (None, 5)                 255       \n",
            "                                                                 \n",
            "=================================================================\n",
            "Total params: 2,551,305\n",
            "Trainable params: 2,551,305\n",
            "Non-trainable params: 0\n",
            "_________________________________________________________________\n"
          ]
        }
      ]
    },
    {
      "cell_type": "code",
      "source": [
        "model.fit(X, y, epochs=20,validation_split=0.1)"
      ],
      "metadata": {
        "colab": {
          "base_uri": "https://localhost:8080/"
        },
        "id": "iYNKw2omyGPd",
        "outputId": "fd9fe9aa-8813-4b4d-a022-689f0851ff42"
      },
      "execution_count": null,
      "outputs": [
        {
          "output_type": "stream",
          "name": "stdout",
          "text": [
            "Epoch 1/20\n",
            "282/282 [==============================] - 5s 17ms/step - loss: 1.3341 - accuracy: 0.4547 - val_loss: 1.2235 - val_accuracy: 0.5120\n",
            "Epoch 2/20\n",
            "282/282 [==============================] - 5s 16ms/step - loss: 1.1545 - accuracy: 0.5301 - val_loss: 1.3558 - val_accuracy: 0.3970\n",
            "Epoch 3/20\n",
            "282/282 [==============================] - 4s 16ms/step - loss: 1.0782 - accuracy: 0.5563 - val_loss: 1.0736 - val_accuracy: 0.5610\n",
            "Epoch 4/20\n",
            "282/282 [==============================] - 5s 16ms/step - loss: 1.0120 - accuracy: 0.5909 - val_loss: 1.1185 - val_accuracy: 0.4720\n",
            "Epoch 5/20\n",
            "282/282 [==============================] - 5s 16ms/step - loss: 0.9489 - accuracy: 0.6172 - val_loss: 0.9983 - val_accuracy: 0.5860\n",
            "Epoch 6/20\n",
            "282/282 [==============================] - 5s 16ms/step - loss: 0.8908 - accuracy: 0.6480 - val_loss: 1.0129 - val_accuracy: 0.5790\n",
            "Epoch 7/20\n",
            "282/282 [==============================] - 5s 16ms/step - loss: 0.8386 - accuracy: 0.6696 - val_loss: 0.9848 - val_accuracy: 0.5670\n",
            "Epoch 8/20\n",
            "282/282 [==============================] - 6s 21ms/step - loss: 0.7909 - accuracy: 0.6903 - val_loss: 0.9791 - val_accuracy: 0.5790\n",
            "Epoch 9/20\n",
            "282/282 [==============================] - 5s 16ms/step - loss: 0.7434 - accuracy: 0.7139 - val_loss: 0.8589 - val_accuracy: 0.6210\n",
            "Epoch 10/20\n",
            "282/282 [==============================] - 5s 17ms/step - loss: 0.7060 - accuracy: 0.7259 - val_loss: 0.8231 - val_accuracy: 0.6630\n",
            "Epoch 11/20\n",
            "282/282 [==============================] - 5s 16ms/step - loss: 0.6692 - accuracy: 0.7418 - val_loss: 0.7945 - val_accuracy: 0.6530\n",
            "Epoch 12/20\n",
            "282/282 [==============================] - 5s 16ms/step - loss: 0.6405 - accuracy: 0.7537 - val_loss: 0.7717 - val_accuracy: 0.6770\n",
            "Epoch 13/20\n",
            "282/282 [==============================] - 5s 16ms/step - loss: 0.6102 - accuracy: 0.7626 - val_loss: 0.7400 - val_accuracy: 0.7070\n",
            "Epoch 14/20\n",
            "282/282 [==============================] - 5s 16ms/step - loss: 0.5812 - accuracy: 0.7731 - val_loss: 0.7467 - val_accuracy: 0.6880\n",
            "Epoch 15/20\n",
            "282/282 [==============================] - 5s 16ms/step - loss: 0.5511 - accuracy: 0.7886 - val_loss: 1.4101 - val_accuracy: 0.5030\n",
            "Epoch 16/20\n",
            "282/282 [==============================] - 5s 16ms/step - loss: 0.5453 - accuracy: 0.7942 - val_loss: 1.2349 - val_accuracy: 0.5140\n",
            "Epoch 17/20\n",
            "282/282 [==============================] - 6s 20ms/step - loss: 0.5186 - accuracy: 0.8001 - val_loss: 0.7036 - val_accuracy: 0.7250\n",
            "Epoch 18/20\n",
            "282/282 [==============================] - 4s 16ms/step - loss: 0.4942 - accuracy: 0.8134 - val_loss: 0.7082 - val_accuracy: 0.7020\n",
            "Epoch 19/20\n",
            "282/282 [==============================] - 5s 16ms/step - loss: 0.4783 - accuracy: 0.8181 - val_loss: 0.6697 - val_accuracy: 0.7330\n",
            "Epoch 20/20\n",
            "282/282 [==============================] - 5s 16ms/step - loss: 0.4631 - accuracy: 0.8253 - val_loss: 0.6266 - val_accuracy: 0.7400\n"
          ]
        },
        {
          "output_type": "execute_result",
          "data": {
            "text/plain": [
              "<keras.callbacks.History at 0x7fc504629350>"
            ]
          },
          "metadata": {},
          "execution_count": 36
        }
      ]
    },
    {
      "cell_type": "code",
      "source": [
        "# Save the model and upload to git\n",
        "model.save('model.h5')"
      ],
      "metadata": {
        "id": "QamfKWdevjhH"
      },
      "execution_count": null,
      "outputs": []
    },
    {
      "cell_type": "code",
      "source": [
        "import matplotlib.pyplot as plt\n",
        "(X_train, y_train), (X_test, y_test) = keras.datasets.mnist.load_data()\n",
        "# Normalize\n",
        "X_train = X_train / 255\n",
        "X_test = X_test / 255\n",
        "\n",
        "plt.figure(figsize=(10, 3))\n",
        "for i in range(30):\n",
        "    plt.subplot(3, 10, i + 1)\n",
        "    plt.imshow(X_train[i], cmap='gray')\n",
        "    plt.axis('off')\n",
        "plt.show()"
      ],
      "metadata": {
        "colab": {
          "base_uri": "https://localhost:8080/",
          "height": 193
        },
        "id": "yG5UYjG-10uL",
        "outputId": "30a97bf8-d895-4470-f22b-fdee5647eb03"
      },
      "execution_count": null,
      "outputs": [
        {
          "output_type": "display_data",
          "data": {
            "text/plain": [
              "<Figure size 720x216 with 30 Axes>"
            ],
            "image/png": "[encoded data removed]"
          },
          "metadata": {
            "needs_background": "light"
          }
        }
      ]
    },
    {
      "cell_type": "code",
      "source": [
        "X_train"
      ],
      "metadata": {
        "colab": {
          "base_uri": "https://localhost:8080/"
        },
        "id": "9v-nIWuX1_kO",
        "outputId": "560ddea5-185e-4e5b-ff45-f3e1ce6c4787"
      },
      "execution_count": null,
      "outputs": [
        {
          "output_type": "execute_result",
          "data": {
            "text/plain": [
              "array([[[0., 0., 0., ..., 0., 0., 0.],\n",
              "        [0., 0., 0., ..., 0., 0., 0.],\n",
              "        [0., 0., 0., ..., 0., 0., 0.],\n",
              "        ...,\n",
              "        [0., 0., 0., ..., 0., 0., 0.],\n",
              "        [0., 0., 0., ..., 0., 0., 0.],\n",
              "        [0., 0., 0., ..., 0., 0., 0.]],\n",
              "\n",
              "       [[0., 0., 0., ..., 0., 0., 0.],\n",
              "        [0., 0., 0., ..., 0., 0., 0.],\n",
              "        [0., 0., 0., ..., 0., 0., 0.],\n",
              "        ...,\n",
              "        [0., 0., 0., ..., 0., 0., 0.],\n",
              "        [0., 0., 0., ..., 0., 0., 0.],\n",
              "        [0., 0., 0., ..., 0., 0., 0.]],\n",
              "\n",
              "       [[0., 0., 0., ..., 0., 0., 0.],\n",
              "        [0., 0., 0., ..., 0., 0., 0.],\n",
              "        [0., 0., 0., ..., 0., 0., 0.],\n",
              "        ...,\n",
              "        [0., 0., 0., ..., 0., 0., 0.],\n",
              "        [0., 0., 0., ..., 0., 0., 0.],\n",
              "        [0., 0., 0., ..., 0., 0., 0.]],\n",
              "\n",
              "       ...,\n",
              "\n",
              "       [[0., 0., 0., ..., 0., 0., 0.],\n",
              "        [0., 0., 0., ..., 0., 0., 0.],\n",
              "        [0., 0., 0., ..., 0., 0., 0.],\n",
              "        ...,\n",
              "        [0., 0., 0., ..., 0., 0., 0.],\n",
              "        [0., 0., 0., ..., 0., 0., 0.],\n",
              "        [0., 0., 0., ..., 0., 0., 0.]],\n",
              "\n",
              "       [[0., 0., 0., ..., 0., 0., 0.],\n",
              "        [0., 0., 0., ..., 0., 0., 0.],\n",
              "        [0., 0., 0., ..., 0., 0., 0.],\n",
              "        ...,\n",
              "        [0., 0., 0., ..., 0., 0., 0.],\n",
              "        [0., 0., 0., ..., 0., 0., 0.],\n",
              "        [0., 0., 0., ..., 0., 0., 0.]],\n",
              "\n",
              "       [[0., 0., 0., ..., 0., 0., 0.],\n",
              "        [0., 0., 0., ..., 0., 0., 0.],\n",
              "        [0., 0., 0., ..., 0., 0., 0.],\n",
              "        ...,\n",
              "        [0., 0., 0., ..., 0., 0., 0.],\n",
              "        [0., 0., 0., ..., 0., 0., 0.],\n",
              "        [0., 0., 0., ..., 0., 0., 0.]]])"
            ]
          },
          "metadata": {},
          "execution_count": 26
        }
      ]
    },
    {
      "cell_type": "code",
      "source": [
        "y_train"
      ],
      "metadata": {
        "id": "RabiaQZ62tVr"
      },
      "execution_count": null,
      "outputs": []
    },
    {
      "cell_type": "code",
      "source": [
        "X_test"
      ],
      "metadata": {
        "id": "pKMGx9er2t7x"
      },
      "execution_count": null,
      "outputs": []
    },
    {
      "cell_type": "code",
      "source": [
        "y_test"
      ],
      "metadata": {
        "id": "Deh3fseN2vdS"
      },
      "execution_count": null,
      "outputs": []
    },
    {
      "cell_type": "code",
      "source": [
        "X_train.shape"
      ],
      "metadata": {
        "colab": {
          "base_uri": "https://localhost:8080/"
        },
        "id": "9dTcaZvF20XL",
        "outputId": "f198661b-f0c1-4e12-9217-84366011fa83"
      },
      "execution_count": null,
      "outputs": [
        {
          "output_type": "execute_result",
          "data": {
            "text/plain": [
              "(60000, 28, 28)"
            ]
          },
          "metadata": {},
          "execution_count": 28
        }
      ]
    },
    {
      "cell_type": "code",
      "source": [
        "X_test.shape"
      ],
      "metadata": {
        "colab": {
          "base_uri": "https://localhost:8080/"
        },
        "id": "Jrrge9qu22fM",
        "outputId": "293f6a37-f45c-411a-8ecf-ad80a3721680"
      },
      "execution_count": null,
      "outputs": [
        {
          "output_type": "execute_result",
          "data": {
            "text/plain": [
              "(10000, 28, 28)"
            ]
          },
          "metadata": {},
          "execution_count": 29
        }
      ]
    },
    {
      "cell_type": "code",
      "source": [
        "y_train.shape"
      ],
      "metadata": {
        "colab": {
          "base_uri": "https://localhost:8080/"
        },
        "id": "rGMZmeUJ25kj",
        "outputId": "2f0da477-9434-4971-8246-cc0094f28c54"
      },
      "execution_count": null,
      "outputs": [
        {
          "output_type": "execute_result",
          "data": {
            "text/plain": [
              "(60000,)"
            ]
          },
          "metadata": {},
          "execution_count": 30
        }
      ]
    },
    {
      "cell_type": "code",
      "source": [
        "y_test.shape"
      ],
      "metadata": {
        "colab": {
          "base_uri": "https://localhost:8080/"
        },
        "id": "3qq4OX-v25m4",
        "outputId": "41961e8a-9483-4e61-e9d2-38f9cf66145e"
      },
      "execution_count": null,
      "outputs": [
        {
          "output_type": "execute_result",
          "data": {
            "text/plain": [
              "(10000,)"
            ]
          },
          "metadata": {},
          "execution_count": 31
        }
      ]
    }
  ]
}